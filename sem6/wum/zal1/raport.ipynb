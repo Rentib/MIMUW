{
 "cells": [
  {
   "cell_type": "markdown",
   "metadata": {
    "id": "fRxOYIxDP4nH"
   },
   "source": [
    "Importowanie bibliotek"
   ]
  },
  {
   "cell_type": "code",
   "execution_count": null,
   "metadata": {
    "colab": {
     "base_uri": "https://localhost:8080/"
    },
    "id": "Jl709w6xQH7y",
    "outputId": "ad6696a6-039a-40b9-e05d-5fae25ec50e5"
   },
   "outputs": [],
   "source": [
    "!pip install pandas numpy statsmodels"
   ]
  },
  {
   "cell_type": "code",
   "execution_count": null,
   "metadata": {
    "id": "VSadfDEBP17-"
   },
   "outputs": [],
   "source": [
    "import pandas as pd\n",
    "import numpy as np\n",
    "import matplotlib.pyplot as plt\n",
    "import scipy as scp\n",
    "import seaborn as sns\n",
    "import statsmodels.api as sm\n",
    "from statsmodels.graphics.gofplots import qqplot\n",
    "from statsmodels.stats.outliers_influence import variance_inflation_factor\n",
    "import statsmodels.stats.diagnostic as smd\n",
    "from statsmodels.stats.stattools import durbin_watson"
   ]
  },
  {
   "cell_type": "markdown",
   "metadata": {
    "id": "bZpeua1UPp8Y"
   },
   "source": [
    "Zadanie 1"
   ]
  },
  {
   "cell_type": "code",
   "execution_count": null,
   "metadata": {
    "colab": {
     "base_uri": "https://localhost:8080/"
    },
    "id": "DAOScSiLPm62",
    "outputId": "dee7927f-44d9-4d10-af07-12fd876bfe7e"
   },
   "outputs": [],
   "source": [
    "df_original = pd.read_csv(\"dane_projekt1.csv\", sep=\";\")\n",
    "df_original.info()"
   ]
  },
  {
   "cell_type": "code",
   "execution_count": null,
   "metadata": {
    "colab": {
     "base_uri": "https://localhost:8080/"
    },
    "id": "II_w6uRpttap",
    "outputId": "735378e1-8f0a-442e-ce2a-06063e1db387"
   },
   "outputs": [],
   "source": [
    "liczba_obserwacji = len(df_original)\n",
    "braki_danych = df_original.isnull().sum()\n",
    "print(f\"Liczba obserwacji: {liczba_obserwacji}\\nBraki danych:\\n{braki_danych}\")"
   ]
  },
  {
   "cell_type": "markdown",
   "metadata": {
    "id": "xtzMeYGaFL0o"
   },
   "source": [
    "Usuwamy niepoprawne obserwacje.\n",
    "Na przykład ujemne wydatki nie mają żadnego sensu."
   ]
  },
  {
   "cell_type": "code",
   "execution_count": null,
   "metadata": {
    "colab": {
     "base_uri": "https://localhost:8080/"
    },
    "id": "OZUUKQgEFJtV",
    "outputId": "676b23b1-473e-4197-94fd-a36373050426"
   },
   "outputs": [],
   "source": [
    "df = df_original.copy()\n",
    "\n",
    "# Filtrowanie danych i usuwanie obserwacji z ujemnymi wydatkami\n",
    "df = df[df['wydatki_zyw'] >= 0]\n",
    "\n",
    "# Wyświetlenie informacji o nowej ramce danych\n",
    "print(\"Liczba obserwacji po usunięciu błędnych:\", len(df))"
   ]
  },
  {
   "cell_type": "markdown",
   "metadata": {
    "id": "tMz5DDYP3QvI"
   },
   "source": [
    "Zmienne ilościowe (7):  waga, wzrost, dzieci, wiek, dochód, oszczędności, wydatki_zyw\n",
    "\n",
    "\n",
    "Zmienne jakościowe (3): płeć, jednoos, miejsce\n",
    "\n",
    "\n",
    "Nie ma brakujących danych."
   ]
  },
  {
   "cell_type": "code",
   "execution_count": null,
   "metadata": {
    "colab": {
     "base_uri": "https://localhost:8080/"
    },
    "id": "ujmbzcUV4MS_",
    "outputId": "f8b383c2-6072-488a-e083-f81f0c2189a8"
   },
   "outputs": [],
   "source": [
    "# Obliczanie tabeli częstości dla zmiennej jakościowej 'plec'\n",
    "tabela_czestosci_plec = df['plec'].value_counts()\n",
    "print(\"Tabela częstości dla zmiennej 'plec':\")\n",
    "print(tabela_czestosci_plec)\n",
    "\n",
    "# Obliczanie tabeli częstości dla zmiennej jakościowej 'jednoos'\n",
    "tabela_czestosci_jednoos = df['jednoos'].value_counts()\n",
    "print(\"\\nTabela częstości dla zmiennej 'jednoos':\")\n",
    "print(tabela_czestosci_jednoos)\n",
    "\n",
    "# Obliczanie tabeli częstości dla zmiennej jakościowej 'miejsce'\n",
    "tabela_czestosci_miejsce = df['miejsce'].value_counts()\n",
    "print(\"\\nTabela częstości dla zmiennej 'miejsce':\")\n",
    "print(tabela_czestosci_miejsce)"
   ]
  },
  {
   "cell_type": "markdown",
   "metadata": {
    "id": "GYG2PjNfB29S"
   },
   "source": [
    "Zmienne jakościowe:\n",
    "płeć: jest niewielka dysproporcja między kobietami a mężczyznami\n",
    "jednoos: jest mniej jenoosobowych niż wieloosobowych gospodarstw\n",
    "miejsce: najwięcej danych jest z miejsca nr 2, z miejsc nr 1 i nr 3 jest mniej więcej tyle samo danych"
   ]
  },
  {
   "cell_type": "code",
   "execution_count": null,
   "metadata": {
    "colab": {
     "base_uri": "https://localhost:8080/"
    },
    "id": "x-1tE8g8CRU4",
    "outputId": "d6686bdb-df7c-4dc7-db20-4d8f1e4b65b3"
   },
   "outputs": [],
   "source": [
    "# Wyświetlenie statystyk opisowych dla zmiennych ilościowych\n",
    "statystyka_opisowa = df[['waga', 'wzrost', 'dzieci', 'wiek', 'dochod', 'oszczednosci', 'wydatki_zyw']].describe()\n",
    "print(\"Statystyki opisowe dla zmiennych ilościowych:\")\n",
    "print(statystyka_opisowa)"
   ]
  },
  {
   "cell_type": "code",
   "execution_count": null,
   "metadata": {
    "colab": {
     "base_uri": "https://localhost:8080/",
     "height": 765
    },
    "id": "d2T0lIjtCYgB",
    "outputId": "4a74447d-96ab-4a79-d709-ed1efe2e0bde"
   },
   "outputs": [],
   "source": [
    "import numpy as np\n",
    "import scipy.stats as stats\n",
    "\n",
    "# Tworzenie jednej figury i podwykresów\n",
    "fig, axs = plt.subplots(2, 4, figsize=(15, 8))  # 2 wiersze, 4 kolumny\n",
    "\n",
    "# Wykresy dla poszczególnych zmiennych ilościowych\n",
    "variables = ['waga', 'wzrost', 'dzieci', 'wiek', 'dochod', 'oszczednosci', 'wydatki_zyw']\n",
    "for i, var in enumerate(variables):\n",
    "    ax = axs.flatten()[i]\n",
    "    ax.hist(df[var], bins=20, alpha=0.5, color='blue', density=True)  # Histogram\n",
    "    ax.set_title(f'Histogram {var}')\n",
    "    ax.set_xlabel(var)\n",
    "    ax.set_ylabel('Gęstość')\n",
    "\n",
    "    # Wyznaczenie średniej i odchylenia standardowego\n",
    "    mean = df[var].mean()\n",
    "    std_dev = df[var].std()\n",
    "\n",
    "    # Tworzenie danych dla rozkładu normalnego\n",
    "    xmin, xmax = ax.get_xlim()\n",
    "    x = np.linspace(xmin, xmax, 100)\n",
    "    y = scp.stats.norm.pdf(x, mean, std_dev)\n",
    "\n",
    "    # Narysowanie krzywej rozkładu normalnego\n",
    "    ax.plot(x, y, color='red', linewidth=2)\n",
    "\n",
    "# Ukrycie ostatniego podwykresu (jeśli jest)\n",
    "axs[1, 3].axis('off')\n",
    "\n",
    "# Wyświetlenie wykresów\n",
    "fig.tight_layout()\n",
    "fig.show()\n"
   ]
  },
  {
   "cell_type": "markdown",
   "metadata": {
    "id": "AvV6eXztHeLA"
   },
   "source": [
    "Waga - podobny do normalnego.\n",
    "\n",
    "Wzrost - podobny do normalnego\n",
    "\n",
    "Dziecie - jeśli pamiętamy, że ta zmienna tak na prawdę nie jest zmienną ilościową, bo nie można mieć np 2.5 dziecka oraz nie zdaża się żeby mieć 100 dzieci, to można przyjąć, że rozkład jest podobny normalny.\n",
    "\n",
    "Wiek - podobny do normalnego.\n",
    "\n",
    "Dochód - widać zdecydowaną przewagę po stronie ludzi z mniejszym dochodem, można się tego spodziewać. Oczywiście jest widoczny ogon, który pokrywa tę niewielką część ludzi bogatych.\n",
    "\n",
    "Oszczędności - okazuje się, że większość ludzi ma małe oszczędności. Podobnie jak przy dochodzie widoczny jest ogon.\n",
    "\n",
    "Wydatki żywieniowe - zaskakującym jest, że większość gospodarstw ma tak duże wydatki, podczas gdy można by się spodziewać wykresu normalnego"
   ]
  },
  {
   "cell_type": "markdown",
   "metadata": {
    "id": "idQD6HTnLnj2"
   },
   "source": [
    "Zadanie 2"
   ]
  },
  {
   "cell_type": "code",
   "execution_count": null,
   "metadata": {
    "colab": {
     "base_uri": "https://localhost:8080/",
     "height": 776
    },
    "id": "41kdIyLfOLbd",
    "outputId": "807324de-dcf4-4814-e17d-d9aadfc022fc"
   },
   "outputs": [],
   "source": [
    "# Wybór wybranych kolumn\n",
    "selected_columns = ['waga', 'wzrost', 'dzieci', 'wiek', 'dochod', 'oszczednosci', 'wydatki_zyw']\n",
    "selected_df = df[selected_columns]\n",
    "\n",
    "# Obliczenie macierzy korelacji dla wybranych kolumn\n",
    "correlation_matrix = selected_df.corr()\n",
    "\n",
    "# Wyświetlenie mapy ciepła\n",
    "plt.figure(figsize=(10, 8))\n",
    "sns.heatmap(correlation_matrix, annot=True, cmap='coolwarm', fmt=\".2f\", vmin=-1, vmax=1)\n",
    "plt.title('Mapa ciepła współczynnika korelacji między zmiennymi ilościowymi')\n",
    "plt.show()"
   ]
  },
  {
   "cell_type": "markdown",
   "metadata": {
    "id": "sYDQGiPauHbF"
   },
   "source": [
    "Przyjmijmy takie widełki:\n",
    "\n",
    "- |r| < 0.14: korelacja słaba\n",
    "- 0.14 < |r| < 0.6: korelacja umiarkowana\n",
    "- 0.6 < |r|: korelacja silna\n",
    "\n",
    "Od razu widać silne korelacje między dochodem a oszczędnościami.\n",
    "Korelacje umiarkowane istnieją między oszczędnościami a wydatkami żywieniowymi,\n",
    "wzrostem a wagą, wiekiem a wagą, wiekiem a dochodem, wiekiem a oszczędnościami oraz wiekiem a wzrostem.\n",
    "Pozostałe pary zmiennych są słabo skorelowane."
   ]
  },
  {
   "cell_type": "code",
   "execution_count": null,
   "metadata": {
    "colab": {
     "base_uri": "https://localhost:8080/"
    },
    "id": "qT59SkX_Qb07",
    "outputId": "e4de6600-c48e-4f38-8f72-dfa07742507b"
   },
   "outputs": [],
   "source": [
    "from itertools import combinations\n",
    "\n",
    "# Lista zmiennych jakościowych\n",
    "categorical_variables = ['plec', 'jednoos', 'miejsce']\n",
    "\n",
    "# Przeglądanie wszystkich unikalnych kombinacji par zmiennych jakościowych\n",
    "for var1, var2 in combinations(categorical_variables, 2):\n",
    "    contingency_table = pd.crosstab(df[var1], df[var2])\n",
    "    chi2, p_value, _, _ = scp.stats.chi2_contingency(contingency_table)\n",
    "\n",
    "    print(f'Zależność między zmiennymi {var1} a {var2}:')\n",
    "    print(f'Wartość p dla testu chi-kwadrat: {p_value}')\n",
    "    if p_value < 0.05:\n",
    "        print('Istnieje istotna zależność między zmiennymi.')\n",
    "    else:\n",
    "        print('Nie ma istotnej zależności między zmiennymi.')\n",
    "    print('\\n')"
   ]
  },
  {
   "cell_type": "markdown",
   "metadata": {
    "id": "NdDD1o14ScFd"
   },
   "source": [
    "P-wartości są znacznie wyższe niż 0.05, co pozwala na odrzucenie hipotezy istnienia zależności między sprawdzanymi parami danych."
   ]
  },
  {
   "cell_type": "markdown",
   "metadata": {
    "id": "N16NPWP2NZay"
   },
   "source": [
    "Zadanie 3"
   ]
  },
  {
   "cell_type": "code",
   "execution_count": null,
   "metadata": {
    "colab": {
     "base_uri": "https://localhost:8080/",
     "height": 270
    },
    "id": "UE1c-lE0Nbg0",
    "outputId": "81f678ec-47d6-455f-8fa1-7a311197bfe2"
   },
   "outputs": [],
   "source": [
    "# Tworzenie wykresów rozrzutu dla wszystkich zmiennych ilościowych\n",
    "sns.pairplot(df, x_vars=['waga', 'wzrost', 'dzieci', 'wiek', 'dochod', 'oszczednosci'], y_vars=['wydatki_zyw'])\n",
    "plt.suptitle('Wykresy rozrzutu dla zmiennych ilościowych względem wydatków na życie', y=1.02)\n",
    "plt.show()"
   ]
  },
  {
   "cell_type": "markdown",
   "metadata": {
    "id": "vKUOCmoS-_ca"
   },
   "source": [
    "Wykresy nie mówią zbyt dużo natomiast widać, że ludzie z małą ilością oszczędności sporo wydają na żywienie, co ma sens. Im kto więcej wydaje, tym mniejsze ma oszczędności i analogicznie im więcej się oszczędza, tym mniej można wydać.\n",
    "\n",
    "Analogiczną zależność widać między dochodami a wydatkami żywieniowymi. Tym razem ludzi, którzy bardzo dużo zarabiają, generalnie sporo wydają na żywność z pewnymi wyjątkami.\n",
    "\n",
    "Pozostałe wykresy nie wskazują na żaden widoczny trend."
   ]
  },
  {
   "cell_type": "code",
   "execution_count": null,
   "metadata": {
    "colab": {
     "base_uri": "https://localhost:8080/",
     "height": 719
    },
    "id": "1Hq59ota9xi_",
    "outputId": "2e3765ca-201b-4d81-dd19-63a924290bde"
   },
   "outputs": [],
   "source": [
    "# Wykres rozrzutu dla wszystkich zmiennych ilościowych względem 'wydatki_zyw' (x i y ponownie zamienione)\n",
    "plt.figure(figsize=(12, 8))\n",
    "sns.scatterplot(data=df, x='waga', y='wydatki_zyw', color='skyblue', label='waga')\n",
    "sns.scatterplot(data=df, x='wzrost', y='wydatki_zyw', color='salmon', label='wzrost')\n",
    "sns.scatterplot(data=df, x='dzieci', y='wydatki_zyw', color='lightgreen', label='dzieci')\n",
    "sns.scatterplot(data=df, x='wiek', y='wydatki_zyw', color='orange', label='wiek')\n",
    "sns.scatterplot(data=df, x='dochod', y='wydatki_zyw', color='purple', label='dochod')\n",
    "sns.scatterplot(data=df, x='oszczednosci', y='wydatki_zyw', color='gold', label='oszczednosci')\n",
    "plt.xlabel('Zmienna ilościowa')\n",
    "plt.ylabel('Wydatki na żywność')\n",
    "plt.title('Wykresy rozrzutu dla zmiennych ilościowych względem wydatki_zyw')\n",
    "plt.legend()\n",
    "plt.show()"
   ]
  },
  {
   "cell_type": "markdown",
   "metadata": {
    "id": "aWTXPcbaStrI"
   },
   "source": [
    "Jest to interesująca, lecz niepraktyczna wizualizacja. Na jednym wykresie oczywiście analiza nie ma sensu, gdyż zmienne ilościowe są w znacznie różnych ilościach i różnych jednostkach. Na przykład dzieci jest co najwyżej 5, natomiast dochody są w tysiącach."
   ]
  },
  {
   "cell_type": "code",
   "execution_count": null,
   "metadata": {
    "colab": {
     "base_uri": "https://localhost:8080/",
     "height": 564
    },
    "id": "KOflFqTSLxSZ",
    "outputId": "63c94bd1-10af-48e7-ad3a-860bb4b8ef58"
   },
   "outputs": [],
   "source": [
    "# Wybór zmiennej ilościowej i zmiennej jakościowej\n",
    "variable = 'wydatki_zyw'\n",
    "qualitative_variable = 'miejsce'\n",
    "\n",
    "# Tworzenie wykresu pudełkowego\n",
    "plt.figure(figsize=(10, 6))\n",
    "sns.boxplot(data=df, x=qualitative_variable, y=variable)\n",
    "plt.title(f'Wykres pudełkowy zmiennej {variable} w podziale na {qualitative_variable}')\n",
    "plt.xlabel(qualitative_variable)\n",
    "plt.ylabel(variable)\n",
    "plt.show()"
   ]
  },
  {
   "cell_type": "markdown",
   "metadata": {
    "id": "JgaET6FSSvZr"
   },
   "source": [
    "Niezależnie od miejsca w jakim się żyje, czy jest ono duże, czy małe ze względu na liczbę mieszkańców, wydatki żywieniowe są bardzo zbliżone. Można postawić hipotezę, że zaludnienie miejsca zamieszkania nie wpływa na wydatki związane z żywieniem."
   ]
  },
  {
   "cell_type": "code",
   "execution_count": null,
   "metadata": {
    "colab": {
     "base_uri": "https://localhost:8080/",
     "height": 564
    },
    "id": "hi3rHyjpMrSx",
    "outputId": "13518f8c-5a68-4d39-9fbd-7f63509a4663"
   },
   "outputs": [],
   "source": [
    "# Tworzenie wykresu słupkowego skumulowanego\n",
    "plt.figure(figsize=(8, 6))\n",
    "sns.countplot(data=df, x='plec', hue='jednoos', palette='Set2')\n",
    "plt.title('Wykres słupkowy dla płci i prowadzenia jednoosobowego gospodarstwa domowego')\n",
    "plt.xlabel('Płeć')\n",
    "plt.ylabel('Liczba respondentów')\n",
    "plt.legend(title='Jednoosobowe gospodarstwo', loc='upper right')\n",
    "plt.show()"
   ]
  },
  {
   "cell_type": "markdown",
   "metadata": {
    "id": "yBKEzfjqSxhh"
   },
   "source": [
    "Większość ludzi żyje w gospodarstwach wieloosobowych.\n",
    "Widać także, że większy odsetek kobiet w stosunku do mężczyzn żyje w gospodarstwach wieloosobowych."
   ]
  },
  {
   "cell_type": "code",
   "execution_count": null,
   "metadata": {
    "colab": {
     "base_uri": "https://localhost:8080/",
     "height": 564
    },
    "id": "zuz_NbNwU6dJ",
    "outputId": "80c40c83-7b63-46f7-83af-c1d1f26a0316"
   },
   "outputs": [],
   "source": [
    "# Tworzenie wykresu skrzypcowego\n",
    "plt.figure(figsize=(10, 6))\n",
    "sns.violinplot(data=df, x=qualitative_variable, y=variable)\n",
    "plt.title(f'Wykres skrzypcowy zmiennej {variable} w podziale na {qualitative_variable}')\n",
    "plt.xlabel(qualitative_variable)\n",
    "plt.ylabel(variable)\n",
    "plt.show()"
   ]
  },
  {
   "cell_type": "markdown",
   "metadata": {
    "id": "fuE2NWqQVL0Q"
   },
   "source": [
    "Ciekawym wykresem może być wykres skrzypcowy wydatków żywnościowych w zależności od miejsca. Pokazuje to, co wykres pudełkowy, a także kształt rozkładu."
   ]
  },
  {
   "cell_type": "markdown",
   "metadata": {
    "id": "rcv67Jd4S8c_"
   },
   "source": [
    "Zadanie 4"
   ]
  },
  {
   "cell_type": "code",
   "execution_count": null,
   "metadata": {
    "colab": {
     "base_uri": "https://localhost:8080/"
    },
    "id": "81EjcbwLS9NE",
    "outputId": "f10baf0b-3683-443f-e25c-ab5c4591dd66"
   },
   "outputs": [],
   "source": [
    "# Średnia i odchylenie standardowe\n",
    "mean_age = np.mean(df['wiek'])\n",
    "std_dev_age = np.std(df['wiek'], ddof=1)\n",
    "quantiles = df['wiek'].quantile([0.25, 0.50, 0.75])\n",
    "print(f'Średnia: {mean_age}, Odchylenie standardowe: {std_dev_age}, Kwartyle: {quantiles}')"
   ]
  },
  {
   "cell_type": "code",
   "execution_count": null,
   "metadata": {
    "id": "nMsfa0RBw4a4"
   },
   "outputs": [],
   "source": [
    "n = len(df['wiek'])\n",
    "\n",
    "# Poziom ufności\n",
    "# 1 - alpha = 0.99 ==> alpha = 0.01\n",
    "alpha = 0.01\n",
    "confidence_level = 1 - alpha/2"
   ]
  },
  {
   "cell_type": "code",
   "execution_count": null,
   "metadata": {
    "colab": {
     "base_uri": "https://localhost:8080/"
    },
    "id": "uBcFgjfmx9Xs",
    "outputId": "0c2cb544-a0c2-44c0-b152-712befc0312e"
   },
   "outputs": [],
   "source": [
    "# Obliczenie przedziału ufności dla średniej\n",
    "lower_bound_mean, upper_bound_mean = scp.stats.t.interval(confidence_level, df=n-1, loc=mean_age, scale=std_dev_age/np.sqrt(n))\n",
    "\n",
    "# Obliczenie przedziału ufności dla odchylenia standardowego\n",
    "lower_bound_std_dev, upper_bound_std_dev = scp.stats.t.interval(confidence_level, df=n-1, loc=0, scale=std_dev_age)\n",
    "\n",
    "print(f'Przedział ufności dla średniej wieku: ({lower_bound_mean}, {upper_bound_mean})')\n",
    "print(f'Przedział ufności dla odchylenia standardowego wieku: ({lower_bound_std_dev}, {upper_bound_std_dev})')"
   ]
  },
  {
   "cell_type": "code",
   "execution_count": null,
   "metadata": {
    "colab": {
     "base_uri": "https://localhost:8080/"
    },
    "id": "PDWyMZ0hz3BE",
    "outputId": "77d026f1-1a7d-49d4-8d57-99289defc761"
   },
   "outputs": [],
   "source": [
    "# Dane\n",
    "wiek = df['wiek']\n",
    "\n",
    "# Obliczenie średniej i odchylenia standardowego\n",
    "mean = np.mean(wiek)\n",
    "std_dev = np.std(wiek, ddof=1)  # Uwzględniamy stopień swobody\n",
    "\n",
    "# Liczba obserwacji\n",
    "n = len(wiek)\n",
    "\n",
    "# Poziom ufności\n",
    "alpha = 0.01\n",
    "confidence_level = 1 - alpha / 2\n",
    "\n",
    "# Obliczenie przedziałów ufności dla średniej\n",
    "ci_mean = scp.stats.norm.interval(confidence_level, loc=mean, scale=std_dev / np.sqrt(n))\n",
    "\n",
    "# Obliczenie przedziałów ufności dla odchylenia standardowego\n",
    "ci_std_dev_lower = std_dev * np.sqrt((n - 1) / scp.stats.chi2.ppf(confidence_level, df=n - 1))\n",
    "ci_std_dev_upper = std_dev * np.sqrt((n - 1) / scp.stats.chi2.ppf(1 - confidence_level, df=n - 1))\n",
    "ci_std_dev = (ci_std_dev_lower, ci_std_dev_upper)\n",
    "\n",
    "# Wyświetlenie wyników\n",
    "print(\"Przedziały ufności dla średniej wieku:\", ci_mean)\n",
    "print(\"Przedziały ufności dla odchylenia standardowego wieku:\", ci_std_dev)\n",
    "\n",
    "n = len(wiek)  # Liczba obserwacji\n",
    "\n",
    "# Obliczenie kwartyli\n",
    "q1, q2, q3 = np.percentile(wiek, [25, 50, 75])\n",
    "\n",
    "# Obliczenie wartości z_alpha (kwantyla rozkładu normalnego)\n",
    "z_alpha = scp.stats.norm.ppf(1 - alpha/2)\n",
    "\n",
    "# Obliczenie przedziałów ufności dla każdego kwartylu\n",
    "lower_bound_q1 = q1 - (z_alpha * (q3 - q1) / (2 * np.sqrt(n)))\n",
    "upper_bound_q1 = q1 + (z_alpha * (q3 - q1) / (2 * np.sqrt(n)))\n",
    "\n",
    "lower_bound_q2 = q2 - (z_alpha * (q2 - q1) / (2 * np.sqrt(n)))\n",
    "upper_bound_q2 = q2 + (z_alpha * (q2 - q1) / (2 * np.sqrt(n)))\n",
    "\n",
    "lower_bound_q3 = q3 - (z_alpha * (q3 - q2) / (2 * np.sqrt(n)))\n",
    "upper_bound_q3 = q3 + (z_alpha * (q3 - q2) / (2 * np.sqrt(n)))\n",
    "\n",
    "# Wyświetlenie wyników\n",
    "print(\"Przedział ufności dla pierwszego kwartyla:\", (lower_bound_q1, upper_bound_q1))\n",
    "print(\"Przedział ufności dla drugiego kwartyla:\", (lower_bound_q2, upper_bound_q2))\n",
    "print(\"Przedział ufności dla trzeciego kwartyla:\", (lower_bound_q3, upper_bound_q3))"
   ]
  },
  {
   "cell_type": "markdown",
   "metadata": {
    "id": "A_QfQNwEzDdc"
   },
   "source": [
    "Zakładamy, że zmienna wiek ma rozkład normalny, co możemy zrobić bazując na wykresie z zadania pierwszego. Bez tego założenia, a raczej z założeniem przeciwnym o braku rozkładu normalnego użycie funkcji norm.ppf nie miałoby sensu."
   ]
  },
  {
   "cell_type": "markdown",
   "metadata": {
    "id": "TGNd1_iYzF-W"
   },
   "source": [
    "Zadanie 5"
   ]
  },
  {
   "cell_type": "code",
   "execution_count": null,
   "metadata": {
    "id": "t9f9q7p0yPJX"
   },
   "outputs": [],
   "source": [
    "quantiles = df['dochod'].quantile([0.25, 0.75, 0.90])\n",
    "df.loc[:, 'klasa_zamożności'] = pd.cut(df['dochod'], bins=[-np.inf, quantiles.iloc[0], quantiles.iloc[1],\n",
    "                                       quantiles.iloc[2], np.inf], labels=['klasa_niższa', 'klasa_średnia', 'klasa_wyższa_średnia', 'klasa_wyższa'])"
   ]
  },
  {
   "cell_type": "code",
   "execution_count": null,
   "metadata": {
    "colab": {
     "base_uri": "https://localhost:8080/",
     "height": 607
    },
    "id": "kUBIchBs7SBy",
    "outputId": "50f47f53-570b-47b1-b5c1-c3f9dc0fe389"
   },
   "outputs": [],
   "source": [
    "plt.figure(figsize=(10, 6))\n",
    "sns.boxplot(x='klasa_zamożności', y='wydatki_zyw', data=df)\n",
    "plt.title('Wydatki na żywność według klasy zamożności')\n",
    "plt.xlabel('Klasa zamożności')\n",
    "plt.ylabel('Wydatki na żywność')\n",
    "plt.xticks(rotation=45)\n",
    "plt.tight_layout()\n",
    "plt.show()"
   ]
  },
  {
   "cell_type": "code",
   "execution_count": null,
   "metadata": {
    "colab": {
     "base_uri": "https://localhost:8080/",
     "height": 607
    },
    "id": "nj25GVHvrmhs",
    "outputId": "76ece77a-3971-4bf1-affe-347c406c544a"
   },
   "outputs": [],
   "source": [
    "# Grupowanie danych według klasy zamożności i obliczenie odchylenia standardowego dla wydatków na żywność\n",
    "std_dev_by_class = df.groupby('klasa_zamożności')['wydatki_zyw'].std()\n",
    "\n",
    "# Tworzenie wykresu odchylenia standardowego dla klas zamożności\n",
    "plt.figure(figsize=(10, 6))\n",
    "std_dev_by_class.plot(kind='bar', color='skyblue')\n",
    "plt.title('Odchylenie standardowe wydatków na żywność według klasy zamożności')\n",
    "plt.xlabel('Klasa zamożności')\n",
    "plt.ylabel('Odchylenie standardowe')\n",
    "plt.xticks(rotation=45)\n",
    "plt.tight_layout()\n",
    "plt.show()"
   ]
  },
  {
   "cell_type": "markdown",
   "metadata": {
    "id": "Iu8Kjrpe_0WQ"
   },
   "source": [
    "Najmniej zróżnicowane są wydatki w klasie niższej, następnie w wyższej, średniej i najbardziej w klasie wyższej średniej.\n",
    "Co więcej odchylenie standardowe w klasie niższej jest ponad dwukrotnie niższe niż w klasie wyższej średniej.\n",
    "\n",
    "Co ciekawe, wydatki żywieniowe klasy niższej są wyższe od wydatków klasy wyższej średniej, a średnie wydatki są najwyższe spośród wszystkich klas."
   ]
  },
  {
   "cell_type": "markdown",
   "metadata": {
    "id": "-vHmmV3f_4Cu"
   },
   "source": [
    "Zadanie 6"
   ]
  },
  {
   "cell_type": "code",
   "execution_count": null,
   "metadata": {
    "id": "O7V81DDPFXS2"
   },
   "outputs": [],
   "source": [
    "kobiety = df[df['plec'] == 1]['oszczednosci']\n",
    "mezczyzni = df[df['plec'] == 2]['oszczednosci']"
   ]
  },
  {
   "cell_type": "code",
   "execution_count": null,
   "metadata": {
    "colab": {
     "base_uri": "https://localhost:8080/"
    },
    "id": "MRknWQsyBIj1",
    "outputId": "f0031256-06d4-4106-d340-22d92450412d"
   },
   "outputs": [],
   "source": [
    "# Liczba kobiet\n",
    "liczba_kobiet = df[df['plec'] == 1]['plec'].count()\n",
    "\n",
    "# Liczba mężczyzn\n",
    "liczba_mezczyzn = df[df['plec'] == 2]['plec'].count()\n",
    "\n",
    "print(\"Liczba kobiet:\", liczba_kobiet)\n",
    "print(\"Liczba mężczyzn:\", liczba_mezczyzn)"
   ]
  },
  {
   "cell_type": "code",
   "execution_count": null,
   "metadata": {
    "colab": {
     "base_uri": "https://localhost:8080/"
    },
    "id": "HIe6Ix_GBtHA",
    "outputId": "1c11ea1f-f5d3-4f5a-bf76-58f7535ca16e"
   },
   "outputs": [],
   "source": [
    "# Obliczenie wariancji dla kobiet\n",
    "var_kobiety = kobiety.var()\n",
    "\n",
    "# Obliczenie wariancji dla mężczyzn\n",
    "var_mezczyzni = mezczyzni.var()\n",
    "\n",
    "# Obliczenie ilorazu wariancji\n",
    "iloraz_wariancji = var_kobiety / var_mezczyzni\n",
    "\n",
    "print(\"Iloraz wariancji:\", iloraz_wariancji)"
   ]
  },
  {
   "cell_type": "code",
   "execution_count": null,
   "metadata": {
    "colab": {
     "base_uri": "https://localhost:8080/"
    },
    "id": "uEFemVVTCARl",
    "outputId": "568bdc6d-ef7a-49ba-9284-64e3e22de29a"
   },
   "outputs": [],
   "source": [
    "# Przeprowadzenie testu U Manna-Whitneya\n",
    "U_statistic, p_value = scp.stats.mannwhitneyu(kobiety, mezczyzni, alternative='less')\n",
    "\n",
    "print(\"Wartość statystyki U (Mann-Whitney):\", U_statistic)\n",
    "print(\"Wartość p:\", p_value)"
   ]
  },
  {
   "cell_type": "markdown",
   "metadata": {
    "id": "P-RU8--rEgDm"
   },
   "source": [
    "Hipoteza zerowa: kobiety mają niemniejsze oszczędności w stosunku do mężczyzn.\n",
    "\n",
    "Hipoteza alternatywna: kobiety mają mniejsze oszczędności niż mężczyźni.\n",
    "\n",
    "Jako test statystyczny wybrałem test Manna-Whitney'a. Jest to popularny test do sprawdzania rzeczy tego typu i nasze dane spełniają jego założenia.\n",
    "\n",
    "To badanie nie potwierdza w żaden sposób, aby kobiety miały większe oszczędności niż mężczyźni."
   ]
  },
  {
   "cell_type": "code",
   "execution_count": null,
   "metadata": {
    "colab": {
     "base_uri": "https://localhost:8080/"
    },
    "id": "51RNIhPsGto3",
    "outputId": "a3c78116-0397-4031-ec88-1bb875679549"
   },
   "outputs": [],
   "source": [
    "# Obliczenie korelacji Pearsona między proporcją wydatków na żywność a oszczędnościami\n",
    "korelacja, p_value = scp.stats.pearsonr(df['wydatki_zyw'] / df['dochod'], df['oszczednosci'])\n",
    "\n",
    "print(\"Współczynnik korelacji Pearsona:\", korelacja)\n",
    "print(\"Wartość p:\", p_value)\n",
    "\n",
    "# Obliczenie korelacji Spearmana między proporcją wydatków na żywność a oszczędnościami\n",
    "korelacja_spearmana, p_value_spearman = scp.stats.spearmanr(df['wydatki_zyw'] / df['dochod'], df['oszczednosci'])\n",
    "\n",
    "print(\"Współczynnik korelacji Spearmana:\", korelacja_spearmana)\n",
    "print(\"Wartość p dla korelacji Spearmana:\", p_value_spearman)"
   ]
  },
  {
   "cell_type": "markdown",
   "metadata": {
    "id": "NtcIj8yVHIXP"
   },
   "source": [
    "Hipoteza zerowa: niższa proporcja wydatków na żywność względem dochodu jest skorelowana z wyższymi oszczędnościami\n",
    "\n",
    "Hipoteza alternatywna: niższa proporcja wydatków na żywność względem dochodu nie jest skorelowana z wyższymi oszczędnościami\n",
    "\n",
    "Standardowo wybrałem korelacje Pearsona, ale dla pewności sprawdziłem też korelację Spearmana.\n",
    "\n",
    "Warotść p jest bardzo mała, więc nie odrzucamy hipotezy o istnieniu korelacji.\n",
    "\n",
    "Wartość korelacji jest bardzo silna ujemna i jest to oczywiste, gdyż im więcej oszczędzamy, tym mniej możemy wydać na żywność."
   ]
  },
  {
   "cell_type": "code",
   "execution_count": null,
   "metadata": {
    "colab": {
     "base_uri": "https://localhost:8080/"
    },
    "id": "v96MMpQuDa8O",
    "outputId": "35a2bdfc-a211-414c-9d71-9a1bc951e2d2"
   },
   "outputs": [],
   "source": [
    "# Definicja próby referencyjnej\n",
    "sample_reference = np.repeat(56, len(df[df['plec'] == 1]))\n",
    "\n",
    "# Przeprowadzenie testu 1samp\n",
    "t_stat, p_value = scp.stats.ttest_1samp(df[df['plec'] == 1]['waga'], 56, alternative='greater')\n",
    "\n",
    "print(\"Wartość statystyki t:\", t_stat)\n",
    "print(\"Wartość p dla testu 1samp:\", p_value)"
   ]
  },
  {
   "cell_type": "markdown",
   "metadata": {
    "id": "slXWERtKGh-r"
   },
   "source": [
    "Hipoteza zerowa: średnia waga kobiet w próbie jest równa 56 kg\n",
    "\n",
    "Hipoteza alternatywna: średnia waga kobiet w próbie jest wyższa niż 56 kg\n",
    "\n",
    "Można użyć testu 1samp.\n",
    "\n",
    "Wartość p jest bardzo mała, więc średnia waga prawdopodobnie jest wyższa niż 56kg."
   ]
  },
  {
   "cell_type": "code",
   "execution_count": null,
   "metadata": {
    "colab": {
     "base_uri": "https://localhost:8080/"
    },
    "id": "QqmDHTnqxvBE",
    "outputId": "c11f2c39-65f7-4681-9459-5686d89cfbf6"
   },
   "outputs": [],
   "source": [
    "# Określenie wartości referencyjnej\n",
    "# Dla rozkładu Bernoulliego, wartość referencyjna jest często ustawiana na 0.5\n",
    "wartosc_referencyjna = 0.5\n",
    "\n",
    "# Przeprowadzenie jednostronnego t-testu\n",
    "t_stat, p_value = scp.stats.ttest_1samp(df['jednoos'], wartosc_referencyjna)\n",
    "\n",
    "print(\"Wartość statystyki t:\", t_stat)\n",
    "print(\"Wartość p dla testu t:\", p_value)"
   ]
  },
  {
   "cell_type": "markdown",
   "metadata": {
    "id": "aVoKmP_4YH1W"
   },
   "source": [
    "Hipoteza zerowa: zmienna 'jednoos' ma rozkład bernoulliego.\n",
    "\n",
    "Hipoteza alternatywna: zmienna 'jednoos' nie ma rozkładu bernoulliego.\n",
    "\n",
    "Hipoteza nie została obalona przez wykonany test 1samp."
   ]
  },
  {
   "cell_type": "markdown",
   "metadata": {
    "id": "RnI1rCj4bIin"
   },
   "source": [
    "Zadanie 7"
   ]
  },
  {
   "cell_type": "code",
   "execution_count": null,
   "metadata": {
    "colab": {
     "base_uri": "https://localhost:8080/",
     "height": 423
    },
    "id": "WNGsIqQwbJYx",
    "outputId": "3b2a2ba0-07d1-498e-be9f-bb5b0ca5bcc0"
   },
   "outputs": [],
   "source": [
    "df = df_original.copy()\n",
    "df = df[df['wydatki_zyw'] >= 0]\n",
    "\n",
    "# Usunięcie kolumny 'id'\n",
    "df.drop('id', axis=1, inplace=True)\n",
    "\n",
    "# Dodanie stałej do modelu\n",
    "df = sm.add_constant(df)\n",
    "\n",
    "# Kodowanie zmiennych jakościowych\n",
    "df = pd.get_dummies(df, columns=['plec', 'jednoos', 'miejsce'])\n",
    "\n",
    "df"
   ]
  },
  {
   "cell_type": "code",
   "execution_count": null,
   "metadata": {
    "colab": {
     "base_uri": "https://localhost:8080/",
     "height": 730
    },
    "id": "DZ6sR9Hod-N5",
    "outputId": "430f5e69-0e73-4ec8-f32b-e6121a0a396f"
   },
   "outputs": [],
   "source": [
    "# Definicja zmiennych objaśniających i objaśnianej\n",
    "X = df.drop('wydatki_zyw', axis=1)\n",
    "y = df['wydatki_zyw']\n",
    "\n",
    "# Wstępne dopasowanie modelu\n",
    "model = sm.OLS(y.astype(float), X.astype(float)).fit()\n",
    "model.summary()"
   ]
  },
  {
   "cell_type": "code",
   "execution_count": null,
   "metadata": {
    "colab": {
     "base_uri": "https://localhost:8080/"
    },
    "id": "5BKF-rrxCJZa",
    "outputId": "37c678d0-920d-4b55-a440-be6e2373b624"
   },
   "outputs": [],
   "source": [
    "ftest = model.f_test(np.identity(len(model.params)))\n",
    "print(ftest)\n",
    "\n",
    "# ttest jest też w skrócie modelu powyżej\n",
    "ttest = model.t_test(np.identity(len(model.params)))\n",
    "print(ttest)"
   ]
  },
  {
   "cell_type": "markdown",
   "metadata": {
    "id": "BslQaJM92e_d"
   },
   "source": [
    "Przebadane zależności tłumaczą niecałe 68% zmiennych zależnych (R^2 = 0.679). Reszta pozostaje dla nas tajemnicą.\n",
    "\n",
    "Test F wykazał bardzo istotny związek między zmiennymi niezależnymi a zmienną zależną (F=1465.56, p<0.001). Stopnie swobody to odpowiednio 293 dla mianownika i 11 dla licznika testu F. Wynik ten wskazuje na dużą siłę efektu zmiennych niezależnych na zmienną zależną.\n",
    "\n",
    "W przedstawionych wynikach t-testu, każdy wiersz odpowiada jednej zmiennej niezależnej. Wartość \"coef\" oznacza oszacowaną wartość współczynnika regresji dla danej zmiennej niezależnej. Kolumna \"std err\" przedstawia błąd standardowy estymacji współczynnika. Wartość \"t\" to wartość t-statystyki, która mierzy, jak bardzo odstająca jest nasza wartość oszacowania od zera, przy założeniu, że nie ma efektu (tj. wartość współczynnika wynosi zero). P>|t| to wartość p, która informuje nas o istotności statystycznej estymowanej wartości współczynnika; im niższa wartość p, tym bardziej istotny jest współczynnik. Przedział ufności 95% dla każdego współczynnika znajduje się w kolumnach [0.025, 0.975].\n",
    "\n",
    "Widzimy także, że czynnniki z niską p-wartością to dochód, oszczędności, bycie kobietą, życie w dużym mieście i mieszkanie w gospodarstwie jednoosobowym. Są to zmienne indywidualnie istotne."
   ]
  },
  {
   "cell_type": "code",
   "execution_count": null,
   "metadata": {
    "colab": {
     "base_uri": "https://localhost:8080/"
    },
    "id": "RcltPVQXAhWe",
    "outputId": "0ad9bb13-2d67-407d-e563-a82b96b5acaf"
   },
   "outputs": [],
   "source": [
    "print(smd.linear_reset(model, power = 2, test_type = \"fitted\"))"
   ]
  },
  {
   "cell_type": "code",
   "execution_count": null,
   "metadata": {
    "colab": {
     "base_uri": "https://localhost:8080/"
    },
    "id": "-LROEWn23lUB",
    "outputId": "c867c728-6961-4a65-b643-feb4c9d35b68"
   },
   "outputs": [],
   "source": [
    "# Obliczenie statystyki testowej i wartości p dla testu Breuscha-Pagana\n",
    "test_statistic, p_value, _, _ = smd.het_breuschpagan(model.resid, X)\n",
    "\n",
    "# Interpretacja wyników\n",
    "print(\"Statystyka testowa Breuscha-Pagana:\", test_statistic)\n",
    "print(\"Wartość p dla testu Breuscha-Pagana:\", p_value)\n",
    "\n",
    "if p_value > 0.05:\n",
    "    print(\"Nie ma dowodów na heteroskedastyczność.\")\n",
    "else:\n",
    "    print(\"Dane wskazują na heteroskedastyczność.\")"
   ]
  },
  {
   "cell_type": "code",
   "execution_count": null,
   "metadata": {
    "colab": {
     "base_uri": "https://localhost:8080/"
    },
    "id": "lmbjDYHNCo-3",
    "outputId": "0349f3b3-b973-4c46-fc56-6c79f68df178"
   },
   "outputs": [],
   "source": [
    "dw_statistic = durbin_watson(model.resid)\n",
    "\n",
    "print(\"Wartość statystyki testu Durbin-Watsona:\", dw_statistic)"
   ]
  },
  {
   "cell_type": "code",
   "execution_count": null,
   "metadata": {
    "colab": {
     "base_uri": "https://localhost:8080/"
    },
    "id": "7o9pToEpDqEn",
    "outputId": "2d0b6cc9-58c3-48b5-d06f-532162689c16"
   },
   "outputs": [],
   "source": [
    "# Test Shapiro-Wilka\n",
    "stat, p_value = scp.stats.shapiro(model.resid)\n",
    "\n",
    "# Wyświetlenie wyników testu\n",
    "print(\"Statystyka testu Shapiro-Wilka:\", stat)\n",
    "print(\"Wartość p:\", p_value)\n",
    "\n",
    "# Interpretacja wyników\n",
    "alpha = 0.05\n",
    "if p_value > alpha:\n",
    "    print(\"Reszty mogą mieć rozkład normalny.\")\n",
    "else:\n",
    "    print(\"Reszty mogą nie mieć rozkładu normalnego.\")"
   ]
  },
  {
   "cell_type": "markdown",
   "metadata": {
    "id": "gghSRuj8CIQV"
   },
   "source": [
    "Na podstawie testu RESET możemy skłaniać się ku odrzuceniu liniowej formy modelu (nie możemy odrzucić nieliniowości).\n",
    "\n",
    "Test Breuscha-Pagana niestety nie odrzuca heteroskedastyczności.\n",
    "\n",
    "Nie ma jednoznacznych dowodów na autokorelację.\n",
    "\n",
    "Reszty nie mają rozkładu normalnego."
   ]
  },
  {
   "cell_type": "code",
   "execution_count": null,
   "metadata": {
    "colab": {
     "base_uri": "https://localhost:8080/"
    },
    "id": "wzeizrF_BLom",
    "outputId": "2ca27882-22f1-48f7-ec24-1c7c49d7c714"
   },
   "outputs": [],
   "source": [
    "# Obliczenie współczynników VIF dla wszystkich zmiennych objaśniających\n",
    "vif = pd.DataFrame()\n",
    "vif[\"Features\"] = X.columns\n",
    "vif[\"VIF\"] = [variance_inflation_factor(X.values.astype(float), i) for i in range(X.shape[1])]\n",
    "print(vif)"
   ]
  },
  {
   "cell_type": "markdown",
   "metadata": {
    "id": "zPzFGt1aFl8e"
   },
   "source": [
    "\"plec_1\", \"plec_2\", \"jednoos_0\", \"jednoos_1\", \"miejsce_1\", \"miejsce_2\" i \"miejsce_3\" dają \\infty, co sugeruje, że istnieje perfekcyjna współliniowość między tymi zmiennymi a innymi zmiennymi w modelu.\n",
    "\n",
    "W przypadku zmiennych \"dochod\" i \"oszczednosci\" wartości VIF są znacznie wyższe niż 10, co sugeruje obecność silnej współliniowości między nimi a innymi zmiennymi objaśniającymi."
   ]
  },
  {
   "cell_type": "markdown",
   "metadata": {
    "id": "K4JTcWJEG_rG"
   },
   "source": [
    "Już na samym początku usunąłem niepoprawne dane."
   ]
  },
  {
   "cell_type": "code",
   "execution_count": null,
   "metadata": {
    "colab": {
     "base_uri": "https://localhost:8080/",
     "height": 730
    },
    "id": "wyu4IctwHDoK",
    "outputId": "5e199d0a-f26a-4c6c-d966-217bd59e4a5b"
   },
   "outputs": [],
   "source": [
    "df = df_original.copy()\n",
    "df = df[df['wydatki_zyw'] >= 0]\n",
    "\n",
    "# Usunięcie kolumny 'id'\n",
    "df.drop('id', axis=1, inplace=True)\n",
    "\n",
    "# Dodanie stałej do modelu\n",
    "df = sm.add_constant(df)\n",
    "\n",
    "# Kodowanie zmiennych jakościowych\n",
    "df = pd.get_dummies(df, columns=['plec', 'jednoos', 'miejsce'])\n",
    "\n",
    "# Dodanie nowych zmiennych\n",
    "df['dochod_oszczednosci'] = df['dochod'] - df['oszczednosci']\n",
    "df['dochod_oszczednosci_squared'] = df['dochod_oszczednosci'] ** 2\n",
    "\n",
    "df.drop(['dochod', 'oszczednosci'], axis=1, inplace=True)\n",
    "\n",
    "# Definicja zmiennych objaśniających i objaśnianej\n",
    "X = df.drop('wydatki_zyw', axis=1)\n",
    "y = df['wydatki_zyw']\n",
    "\n",
    "# Wstępne dopasowanie modelu\n",
    "model = sm.OLS(y.astype(float), X.astype(float)).fit()\n",
    "model.summary()"
   ]
  },
  {
   "cell_type": "markdown",
   "metadata": {
    "id": "p1ml8PsFITN7"
   },
   "source": [
    "VIF pokazał, że oszczędności i dochody mają problemy, więc metodą prób i błędów doszedłem do zmiany ich na ich różnicę oraz jej kwadrat."
   ]
  },
  {
   "cell_type": "code",
   "execution_count": null,
   "metadata": {
    "colab": {
     "base_uri": "https://localhost:8080/"
    },
    "id": "wCuAKnuCICoc",
    "outputId": "1329d0ca-e7e0-48db-df21-b0c4c1d93ba1"
   },
   "outputs": [],
   "source": [
    "print(smd.linear_reset(model, power = 2, test_type = \"fitted\"))\n",
    "# Obliczenie statystyki testowej i wartości p dla testu Breuscha-Pagana\n",
    "test_statistic, p_value, _, _ = smd.het_breuschpagan(model.resid, X)\n",
    "\n",
    "# Interpretacja wyników\n",
    "print(\"Statystyka testowa Breuscha-Pagana:\", test_statistic)\n",
    "print(\"Wartość p dla testu Breuscha-Pagana:\", p_value)\n",
    "\n",
    "if p_value > 0.05:\n",
    "    print(\"Nie ma dowodów na heteroskedastyczność.\")\n",
    "else:\n",
    "    print(\"Dane wskazują na heteroskedastyczność.\")\n",
    "dw_statistic = durbin_watson(model.resid)\n",
    "\n",
    "print(\"Wartość statystyki testu Durbin-Watsona:\", dw_statistic)\n",
    "# Test Shapiro-Wilka\n",
    "stat, p_value = scp.stats.shapiro(model.resid)\n",
    "\n",
    "# Wyświetlenie wyników testu\n",
    "print(\"Statystyka testu Shapiro-Wilka:\", stat)\n",
    "print(\"Wartość p:\", p_value)\n",
    "\n",
    "# Interpretacja wyników\n",
    "alpha = 0.05\n",
    "if p_value > alpha:\n",
    "    print(\"Reszty mają rozkład normalny.\")\n",
    "else:\n",
    "    print(\"Reszty nie mają rozkładu normalnego.\")"
   ]
  },
  {
   "cell_type": "markdown",
   "metadata": {
    "id": "XX9JUpOBJNRi"
   },
   "source": [
    "Nie ma dowodów żeby model nie spełniał warunków KMRL."
   ]
  },
  {
   "cell_type": "code",
   "execution_count": null,
   "metadata": {
    "colab": {
     "base_uri": "https://localhost:8080/"
    },
    "id": "36_7qBQZIma5",
    "outputId": "83e71935-41f7-4798-eb2c-0bab37bdf685"
   },
   "outputs": [],
   "source": [
    "# Indeks współczynnika dla zmiennej waga i wzrost\n",
    "index_waga = X.columns.get_loc('waga')\n",
    "index_wiek = X.columns.get_loc('wiek')\n",
    "\n",
    "# Współczynniki beta dla wagi i wzrostu\n",
    "beta_waga = model.params[index_waga]\n",
    "beta_wiek = model.params[index_wiek]\n",
    "\n",
    "print(\"Waga:\")\n",
    "print(f\"Każdy dodatkowy kilogram wagi jest związany ze wzrostem wydatków na żywność o {beta_waga:.2f} jednostek.\")\n",
    "\n",
    "print(\"\\nWiek:\")\n",
    "print(f\"Każdy dodatkowy rok życia jest związany ze wzrostem wydatków na żywność o {beta_wiek:.2f} jednostek.\")"
   ]
  },
  {
   "cell_type": "markdown",
   "metadata": {
    "id": "aKTndkcLLBOC"
   },
   "source": [
    "Wybrałem wagę i wiek, ponieważ sądząc po bardzo niskim P, można sądzić, że są indywidualnie istotne."
   ]
  },
  {
   "cell_type": "code",
   "execution_count": null,
   "metadata": {
    "colab": {
     "base_uri": "https://localhost:8080/"
    },
    "id": "4wM1OHuIK1BD",
    "outputId": "d90588a4-71bf-4624-9201-d6ec1d851b22"
   },
   "outputs": [],
   "source": [
    "# Utwórz nową kolumnę w ramce danych zawierającą przewidywane wydatki na żywność\n",
    "df['przewidywane_wydatki_zyw'] = model.predict(X)\n",
    "\n",
    "# Oblicz kwantyl 90% przewidywanych wydatków na żywność\n",
    "kwantyl_90 = df['przewidywane_wydatki_zyw'].quantile(0.90)\n",
    "\n",
    "# Wybierz osoby, których przewidywane wydatki na żywność przekraczają kwantyl 90%\n",
    "osoby_gorne_10_proc = df[df['przewidywane_wydatki_zyw'] > kwantyl_90]\n",
    "\n",
    "# Wyświetl opisowe statystyki dla tych osób\n",
    "opisowe_statystyki = osoby_gorne_10_proc.describe()\n",
    "\n",
    "print(opisowe_statystyki)"
   ]
  },
  {
   "cell_type": "markdown",
   "metadata": {
    "id": "Q8c0T7f45lRw"
   },
   "source": [
    "Ludzie w tej grupie mają znacznie więcej dzieci niż średnio. Widać to poprzez porównanie otrzymanych wartości z wartościami z zadania pierwszego. Ma to sens, gdyż dzieci potrzebują jedzenia, więc im więcej się ma dzieci, tym większe powinny być wydatki na żywność.\n",
    "\n",
    "Waga, wzrost i wiek są podobne do średniej.\n",
    "\n",
    "Wydaje się też, że dochody w tej grupie osób są wyższe, ale jest to trudne do porównania ze względu na zmianę zmiennych."
   ]
  }
 ],
 "metadata": {
  "colab": {
   "provenance": []
  },
  "kernelspec": {
   "display_name": "Python 3 (ipykernel)",
   "language": "python",
   "name": "python3"
  },
  "language_info": {
   "codemirror_mode": {
    "name": "ipython",
    "version": 3
   },
   "file_extension": ".py",
   "mimetype": "text/x-python",
   "name": "python",
   "nbconvert_exporter": "python",
   "pygments_lexer": "ipython3",
   "version": "3.12.7"
  }
 },
 "nbformat": 4,
 "nbformat_minor": 4
}
